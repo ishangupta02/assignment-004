{
 "cells": [
  {
   "cell_type": "markdown",
   "id": "fe68bbad",
   "metadata": {},
   "source": [
    "1. Find the largest number from the given list, use for loop."
   ]
  },
  {
   "cell_type": "code",
   "execution_count": 2,
   "id": "ec3349f4",
   "metadata": {},
   "outputs": [
    {
     "name": "stdout",
     "output_type": "stream",
     "text": [
      "largest number in the given lsit : 525\n"
     ]
    }
   ],
   "source": [
    "numbers = [12, 75, 150, 180, 145, 525, 50]\n",
    "\n",
    "largest = 0\n",
    "for i in numbers :\n",
    "    if largest<i:\n",
    "        largest = i\n",
    "print(f\"largest number in the given lsit : {largest}\")"
   ]
  },
  {
   "cell_type": "markdown",
   "id": "2b8559c2",
   "metadata": {},
   "source": [
    "2. Print all the even number between (1, 12)."
   ]
  },
  {
   "cell_type": "code",
   "execution_count": 6,
   "id": "d4938f3b",
   "metadata": {},
   "outputs": [
    {
     "name": "stdout",
     "output_type": "stream",
     "text": [
      "1\n",
      "3\n",
      "5\n",
      "7\n",
      "9\n",
      "11\n"
     ]
    }
   ],
   "source": [
    "for i in range(1,13):\n",
    "    if not i%2 ==0:\n",
    "        print(i)"
   ]
  },
  {
   "cell_type": "markdown",
   "id": "42a61855",
   "metadata": {},
   "source": [
    "3. Calculate the sum of all numbers from 1 to a given number\n",
    "\n",
    "Expected Output:\n",
    "\n",
    "Enter number 10\n",
    "\n",
    "Sum is: 55"
   ]
  },
  {
   "cell_type": "code",
   "execution_count": 10,
   "id": "3198eef7",
   "metadata": {},
   "outputs": [
    {
     "name": "stdout",
     "output_type": "stream",
     "text": [
      "enter a number10\n",
      "sum is : 1\n",
      "sum is : 3\n",
      "sum is : 6\n",
      "sum is : 10\n",
      "sum is : 15\n",
      "sum is : 21\n",
      "sum is : 28\n",
      "sum is : 36\n",
      "sum is : 45\n",
      "sum is : 55\n"
     ]
    }
   ],
   "source": [
    "num = int(input(\"enter a number\"))\n",
    "sum = 0\n",
    "for i in range(1, num+1):\n",
    "    sum +=i\n",
    "    print(f\"sum is : {sum}\")\n"
   ]
  },
  {
   "cell_type": "markdown",
   "id": "6d68ea80",
   "metadata": {},
   "source": [
    "Q4. Write a program to display only those numbers from a list that satisfy the following conditions"
   ]
  },
  {
   "cell_type": "code",
   "execution_count": null,
   "id": "2f4af768",
   "metadata": {},
   "outputs": [],
   "source": [
    "The number must be divisible by five\n",
    "\n",
    "If the number is greater than 150, then skip it and move to the next number\n",
    "\n",
    "If the number is greater than 500, then stop the loop\n",
    "\n",
    "#given\n",
    "numbers = [12, 75, 150, 180, 145, 525, 50]"
   ]
  },
  {
   "cell_type": "code",
   "execution_count": 1,
   "id": "4496a726",
   "metadata": {},
   "outputs": [
    {
     "name": "stdout",
     "output_type": "stream",
     "text": [
      "75\n",
      "150\n",
      "145\n"
     ]
    }
   ],
   "source": [
    "numbers = [12, 75, 150, 180, 145, 525, 50]\n",
    "\n",
    "for i in numbers:\n",
    "    if i%5 ==0:\n",
    "        if i>500:\n",
    "            break\n",
    "        if i > 150:\n",
    "            continue\n",
    "        print(i)"
   ]
  },
  {
   "cell_type": "markdown",
   "id": "f9a68811",
   "metadata": {},
   "source": [
    "5. Print the given list in reverse order.\n",
    "\n",
    "list1 = [10, 20, 30, 40, 50]"
   ]
  },
  {
   "cell_type": "code",
   "execution_count": 2,
   "id": "f62f6ac4",
   "metadata": {},
   "outputs": [
    {
     "name": "stdout",
     "output_type": "stream",
     "text": [
      "50 40 30 20 10 "
     ]
    }
   ],
   "source": [
    "list1 = [10, 20, 30, 40, 50]\n",
    "for i in reversed(list1):\n",
    "    print(i,end=\" \")"
   ]
  },
  {
   "cell_type": "code",
   "execution_count": null,
   "id": "cd3deabe",
   "metadata": {},
   "outputs": [],
   "source": []
  }
 ],
 "metadata": {
  "kernelspec": {
   "display_name": "Python 3 (ipykernel)",
   "language": "python",
   "name": "python3"
  },
  "language_info": {
   "codemirror_mode": {
    "name": "ipython",
    "version": 3
   },
   "file_extension": ".py",
   "mimetype": "text/x-python",
   "name": "python",
   "nbconvert_exporter": "python",
   "pygments_lexer": "ipython3",
   "version": "3.9.12"
  }
 },
 "nbformat": 4,
 "nbformat_minor": 5
}
